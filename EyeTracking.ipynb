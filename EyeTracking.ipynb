{
 "cells": [
  {
   "cell_type": "code",
   "execution_count": 2,
   "id": "05025675",
   "metadata": {},
   "outputs": [
    {
     "name": "stdout",
     "output_type": "stream",
     "text": [
      "Requirement already satisfied: opencv-python in c:\\users\\ata-h\\anaconda3\\lib\\site-packages (4.8.1.78)\n",
      "Requirement already satisfied: numpy>=1.21.2 in c:\\users\\ata-h\\anaconda3\\lib\\site-packages (from opencv-python) (1.24.3)\n",
      "Note: you may need to restart the kernel to use updated packages.\n"
     ]
    }
   ],
   "source": [
    "pip install opencv-python"
   ]
  },
  {
   "cell_type": "code",
   "execution_count": 4,
   "id": "a5f69b11",
   "metadata": {},
   "outputs": [],
   "source": [
    "import cv2\n",
    "\n",
    "cap = cv2.VideoCapture(\"eye.mp4\") #goz.mp4\n",
    "\n",
    "while True:\n",
    "    ret, frame = cap.read()\n",
    "    if ret == False:\n",
    "        break\n",
    "    \n",
    "    frame = cv2.resize(frame, (800, 600))\n",
    "    \n",
    "    gri = cv2.cvtColor(frame, cv2.COLOR_BGR2GRAY)\n",
    "    blur = cv2.GaussianBlur(gri, (7, 7), 0)\n",
    "    \n",
    "    _,thresh = cv2.threshold(blur, 10,200, cv2.THRESH_BINARY_INV) #goruntuyu siyah beyaz arasinda degistirir\n",
    "    contours,_ = cv2.findContours(thresh, cv2.RETR_TREE, cv2.CHAIN_APPROX_SIMPLE)\n",
    "    \n",
    "    contours = sorted(contours, key = cv2.contourArea, reverse = True)\n",
    "    #print(contours)\n",
    "    \n",
    "    for cnt in contours:\n",
    "        \n",
    "        area = cv2.contourArea(cnt)\n",
    "        #print(cnt)\n",
    "        if area>100:\n",
    "            (x,y,w,h) = cv2.boundingRect(cnt)\n",
    "            cv2.rectangle(frame, (x, y), (x+w, y+h), (255, 0, 0), 2)\n",
    "            cv2.line(frame, (x+int(w/2), 0), (x+int(h/2), frame.shape[0]), (0, 255, 0), 2)\n",
    "            cv2.line(frame, (0, y+int(h/2)), (frame.shape[1], y+int(h/2)), (0, 255, 0), 2)\n",
    "        \n",
    "        \n",
    "    \n",
    "    cv2.imshow(\"eye\", frame) #goz\n",
    "    if cv2.waitKey(5) & 0xFF == ord(\"q\"):\n",
    "        break\n",
    "    \n",
    "cap.release()\n",
    "cv2.destroyAllWindows()"
   ]
  },
  {
   "cell_type": "code",
   "execution_count": 1,
   "id": "bc082d34",
   "metadata": {},
   "outputs": [
    {
     "ename": "SyntaxError",
     "evalue": "invalid syntax (1451119749.py, line 1)",
     "output_type": "error",
     "traceback": [
      "\u001b[1;36m  Cell \u001b[1;32mIn[1], line 1\u001b[1;36m\u001b[0m\n\u001b[1;33m    git init\u001b[0m\n\u001b[1;37m        ^\u001b[0m\n\u001b[1;31mSyntaxError\u001b[0m\u001b[1;31m:\u001b[0m invalid syntax\n"
     ]
    }
   ],
   "source": [
    "git init\n",
    "git add README.md\n",
    "git add EyeTracking.ipynb\n",
    "git commit -m \"Goz takip\"\n",
    "git remote add origin https://github.com/atahancesur/atahancesur/EyeTracking.git\n",
    "git push -u origin master   "
   ]
  },
  {
   "cell_type": "code",
   "execution_count": null,
   "id": "8d5d42da",
   "metadata": {},
   "outputs": [],
   "source": []
  }
 ],
 "metadata": {
  "kernelspec": {
   "display_name": "Python 3 (ipykernel)",
   "language": "python",
   "name": "python3"
  },
  "language_info": {
   "codemirror_mode": {
    "name": "ipython",
    "version": 3
   },
   "file_extension": ".py",
   "mimetype": "text/x-python",
   "name": "python",
   "nbconvert_exporter": "python",
   "pygments_lexer": "ipython3",
   "version": "3.11.4"
  }
 },
 "nbformat": 4,
 "nbformat_minor": 5
}
